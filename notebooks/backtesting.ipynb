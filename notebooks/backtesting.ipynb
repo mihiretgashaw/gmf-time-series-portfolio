{
 "cells": [
  {
   "cell_type": "code",
   "execution_count": 5,
   "id": "e0ce0e80",
   "metadata": {},
   "outputs": [
    {
     "ename": "IndexError",
     "evalue": "index 2 is out of bounds for axis 0 with size 1",
     "output_type": "error",
     "traceback": [
      "\u001b[31m---------------------------------------------------------------------------\u001b[39m",
      "\u001b[31mIndexError\u001b[39m                                Traceback (most recent call last)",
      "\u001b[36mCell\u001b[39m\u001b[36m \u001b[39m\u001b[32mIn[5]\u001b[39m\u001b[32m, line 34\u001b[39m\n\u001b[32m     31\u001b[39m     strategy_weights = pickle.load(f)  \u001b[38;5;66;03m# array([TSLA_weight, BND_weight, SPY_weight])\u001b[39;00m\n\u001b[32m     33\u001b[39m \u001b[38;5;66;03m# Ensure order matches pivot columns\u001b[39;00m\n\u001b[32m---> \u001b[39m\u001b[32m34\u001b[39m strategy_weights = \u001b[43mnp\u001b[49m\u001b[43m.\u001b[49m\u001b[43marray\u001b[49m\u001b[43m(\u001b[49m\u001b[43mstrategy_weights\u001b[49m\u001b[43m)\u001b[49m\u001b[43m[\u001b[49m\u001b[43m[\u001b[49m\u001b[38;5;28;43mlist\u001b[39;49m\u001b[43m(\u001b[49m\u001b[43mreturns_bt\u001b[49m\u001b[43m.\u001b[49m\u001b[43mcolumns\u001b[49m\u001b[43m)\u001b[49m\u001b[43m.\u001b[49m\u001b[43mindex\u001b[49m\u001b[43m(\u001b[49m\u001b[43mt\u001b[49m\u001b[43m)\u001b[49m\u001b[43m \u001b[49m\u001b[38;5;28;43;01mfor\u001b[39;49;00m\u001b[43m \u001b[49m\u001b[43mt\u001b[49m\u001b[43m \u001b[49m\u001b[38;5;129;43;01min\u001b[39;49;00m\u001b[43m \u001b[49m\u001b[43m[\u001b[49m\u001b[33;43m'\u001b[39;49m\u001b[33;43mTSLA\u001b[39;49m\u001b[33;43m'\u001b[39;49m\u001b[43m,\u001b[49m\u001b[33;43m'\u001b[39;49m\u001b[33;43mBND\u001b[39;49m\u001b[33;43m'\u001b[39;49m\u001b[43m,\u001b[49m\u001b[33;43m'\u001b[39;49m\u001b[33;43mSPY\u001b[39;49m\u001b[33;43m'\u001b[39;49m\u001b[43m]\u001b[49m\u001b[43m]\u001b[49m\u001b[43m]\u001b[49m\n\u001b[32m     36\u001b[39m \u001b[38;5;66;03m# Benchmark: 60% SPY / 40% BND, TSLA=0\u001b[39;00m\n\u001b[32m     37\u001b[39m benchmark_weights = np.array([\u001b[32m0\u001b[39m, \u001b[32m0.4\u001b[39m, \u001b[32m0.6\u001b[39m])\n",
      "\u001b[31mIndexError\u001b[39m: index 2 is out of bounds for axis 0 with size 1"
     ]
    }
   ],
   "source": [
    "import pandas as pd\n",
    "import numpy as np\n",
    "import matplotlib.pyplot as plt\n",
    "import pickle\n",
    "\n",
    "# -------------------------------\n",
    "# 1. Load cleaned financial dataset\n",
    "# -------------------------------\n",
    "data = pd.read_csv(\"../data/financial_data_clean.csv\", parse_dates=['Date'])\n",
    "data = data.sort_values('Date')\n",
    "\n",
    "# -------------------------------\n",
    "# 2. Filter backtesting period (last 1 year)\n",
    "# -------------------------------\n",
    "backtest_start = pd.Timestamp('2024-08-01')\n",
    "backtest_end = pd.Timestamp('2025-07-31')\n",
    "data_bt = data[(data['Date'] >= backtest_start) & (data['Date'] <= backtest_end)].copy()\n",
    "\n",
    "# -------------------------------\n",
    "# 3. Pivot to have tickers as columns\n",
    "# -------------------------------\n",
    "pivot_bt = data_bt.pivot(index='Date', columns='Ticker', values='Close')\n",
    "\n",
    "# Compute daily returns\n",
    "returns_bt = pivot_bt.pct_change().dropna()  # columns: TSLA, BND, SPY\n",
    "\n",
    "# -------------------------------\n",
    "# 4. Load optimal portfolio weights from Task 4\n",
    "# -------------------------------\n",
    "with open(\"models/opt_max_sharpe_weights.pkl\", \"rb\") as f:\n",
    "    strategy_weights = pickle.load(f)  # array([TSLA_weight, BND_weight, SPY_weight])\n",
    "\n",
    "# Ensure order matches pivot columns\n",
    "strategy_weights = np.array(strategy_weights)[[list(returns_bt.columns).index(t) for t in ['TSLA','BND','SPY']]]\n",
    "\n",
    "# Benchmark: 60% SPY / 40% BND, TSLA=0\n",
    "benchmark_weights = np.array([0, 0.4, 0.6])\n",
    "\n",
    "# -------------------------------\n",
    "# 5. Compute cumulative returns\n",
    "# -------------------------------\n",
    "strategy_cum = (returns_bt.values @ strategy_weights + 1).cumprod()\n",
    "benchmark_cum = (returns_bt.values @ benchmark_weights + 1).cumprod()\n",
    "\n",
    "# -------------------------------\n",
    "# 6. Plot cumulative returns\n",
    "# -------------------------------\n",
    "plt.figure(figsize=(12,8))\n",
    "plt.plot(returns_bt.index, strategy_cum, label='Strategy Portfolio (Max Sharpe)')\n",
    "plt.plot(returns_bt.index, benchmark_cum, label='Benchmark 60% BND / 40% SPY')\n",
    "plt.xlabel('Date')\n",
    "plt.ylabel('Cumulative Returns')\n",
    "plt.title('Backtest: Strategy vs Benchmark')\n",
    "plt.legend()\n",
    "plt.show()\n",
    "\n",
    "# -------------------------------\n",
    "# 7. Performance metrics\n",
    "# -------------------------------\n",
    "strategy_total_return = strategy_cum[-1] - 1\n",
    "benchmark_total_return = benchmark_cum[-1] - 1\n",
    "\n",
    "strategy_sharpe = (returns_bt.values @ strategy_weights).mean() / (returns_bt.values @ strategy_weights).std() * np.sqrt(252)\n",
    "benchmark_sharpe = (returns_bt.values @ benchmark_weights).mean() / (returns_bt.values @ benchmark_weights).std() * np.sqrt(252)\n",
    "\n",
    "print(\"Strategy Total Return:\", round(strategy_total_return,4))\n",
    "print(\"Strategy Sharpe Ratio:\", round(strategy_sharpe,4))\n",
    "print(\"Benchmark Total Return:\", round(benchmark_total_return,4))\n",
    "print(\"Benchmark Sharpe Ratio:\", round(benchmark_sharpe,4))\n"
   ]
  }
 ],
 "metadata": {
  "kernelspec": {
   "display_name": "venv",
   "language": "python",
   "name": "python3"
  },
  "language_info": {
   "codemirror_mode": {
    "name": "ipython",
    "version": 3
   },
   "file_extension": ".py",
   "mimetype": "text/x-python",
   "name": "python",
   "nbconvert_exporter": "python",
   "pygments_lexer": "ipython3",
   "version": "3.11.3"
  }
 },
 "nbformat": 4,
 "nbformat_minor": 5
}
